{
 "cells": [
  {
   "cell_type": "code",
   "execution_count": 1,
   "id": "ceb5f133",
   "metadata": {
    "_cell_guid": "b1076dfc-b9ad-4769-8c92-a6c4dae69d19",
    "_uuid": "8f2839f25d086af736a60e9eeb907d3b93b6e0e5",
    "execution": {
     "iopub.execute_input": "2024-11-04T18:38:40.865904Z",
     "iopub.status.busy": "2024-11-04T18:38:40.865380Z",
     "iopub.status.idle": "2024-11-04T18:38:56.984055Z",
     "shell.execute_reply": "2024-11-04T18:38:56.982838Z"
    },
    "papermill": {
     "duration": 16.130478,
     "end_time": "2024-11-04T18:38:56.987198",
     "exception": false,
     "start_time": "2024-11-04T18:38:40.856720",
     "status": "completed"
    },
    "tags": []
   },
   "outputs": [],
   "source": [
    "# This Python 3 environment comes with many helpful analytics libraries installed\n",
    "# It is defined by the kaggle/python Docker image: https://github.com/kaggle/docker-python\n",
    "# For example, here's several helpful packages to load\n",
    "\n",
    "import numpy as np # linear algebra\n",
    "import pandas as pd # data processing, CSV file I/O (e.g. pd.read_csv)\n",
    "from PIL import Image\n",
    "import h5py\n",
    "from tensorflow.keras.preprocessing.image import ImageDataGenerator\n",
    "from tensorflow.keras import layers, models, Input\n",
    "import matplotlib.pyplot as plt\n",
    "import tensorflow as tf\n",
    "\n",
    "# Input data files are available in the read-only \"../input/\" directory\n",
    "# For example, running this (by clicking run or pressing Shift+Enter) will list all files under the input directory\n",
    "\n",
    "import os\n",
    "# for dirname, _, filenames in os.walk('/kaggle/input'):\n",
    "#     for filename in filenames:\n",
    "#         print(os.path.join(dirname, filename))\n",
    "\n",
    "# You can write up to 20GB to the current directory (/kaggle/working/) that gets preserved as output when you create a version using \"Save & Run All\" \n",
    "# You can also write temporary files to /kaggle/temp/, but they won't be saved outside of the current session\n"
   ]
  },
  {
   "cell_type": "markdown",
   "id": "75d5875d",
   "metadata": {
    "papermill": {
     "duration": 0.005594,
     "end_time": "2024-11-04T18:38:56.999304",
     "exception": false,
     "start_time": "2024-11-04T18:38:56.993710",
     "status": "completed"
    },
    "tags": []
   },
   "source": [
    "# References\n",
    "\n",
    "Abu-Ismail, O. (2021, November 23). How to correctly use ImageDataGenerator in Keras? Stack Overflow. https://stackoverflow.com/questions/70080062/how-to-correctly-use-imagedatagenerator-in-keras\n",
    "\n",
    "Kolla, A. R. (2020). AlexNet CNN architecture on TensorFlow - Beginner [Kaggle notebook]. Kaggle. https://www.kaggle.com/code/vortexkol/alexnet-cnn-architecture-on-tensorflow-beginner\n",
    "\n",
    "https://www.geeksforgeeks.org/what-is-the-input-size-of-alex-net/\n"
   ]
  },
  {
   "cell_type": "markdown",
   "id": "ccceca51",
   "metadata": {
    "papermill": {
     "duration": 0.005591,
     "end_time": "2024-11-04T18:38:57.010750",
     "exception": false,
     "start_time": "2024-11-04T18:38:57.005159",
     "status": "completed"
    },
    "tags": []
   },
   "source": [
    "**Step 1 : Brief Description of the problem and data**\n",
    "\n",
    "In this Kaggle competition we are giving medical images, and we are tasked with classifying them as containing at least one pixel of tumor tissue - specifically, the center 32x32px region of the image. All images are 96x96 pixels. These are TIFF files, rather than tabular data that we've worked with in previous courses in this specialization. So, we must preprocess these images to a numerical representation, train a convolutional neural network, and then use it for a binary classification problem."
   ]
  },
  {
   "cell_type": "markdown",
   "id": "afdf7576",
   "metadata": {
    "papermill": {
     "duration": 0.005565,
     "end_time": "2024-11-04T18:38:57.022319",
     "exception": false,
     "start_time": "2024-11-04T18:38:57.016754",
     "status": "completed"
    },
    "tags": []
   },
   "source": [
    "**Step 2: Exploratory Data Analysis (EDA) — Inspect, Visualize and Clean the Data**\n",
    "\n",
    "This is a binary classification problem. Let's see how balanced our data is (what the count of 0 and 1 is in the training data)."
   ]
  },
  {
   "cell_type": "code",
   "execution_count": 2,
   "id": "268004ec",
   "metadata": {
    "execution": {
     "iopub.execute_input": "2024-11-04T18:38:57.035918Z",
     "iopub.status.busy": "2024-11-04T18:38:57.035229Z",
     "iopub.status.idle": "2024-11-04T18:38:57.466222Z",
     "shell.execute_reply": "2024-11-04T18:38:57.464915Z"
    },
    "papermill": {
     "duration": 0.440478,
     "end_time": "2024-11-04T18:38:57.468595",
     "exception": false,
     "start_time": "2024-11-04T18:38:57.028117",
     "status": "completed"
    },
    "tags": []
   },
   "outputs": [
    {
     "name": "stdout",
     "output_type": "stream",
     "text": [
      "                                         id  label\n",
      "0  f38a6374c348f90b587e046aac6079959adf3835      0\n",
      "1  c18f2d887b7ae4f6742ee445113fa1aef383ed77      1\n",
      "2  755db6279dae599ebb4d39a9123cce439965282d      0\n",
      "3  bc3f0c64fb968ff4a8bd33af6971ecae77c75e08      0\n",
      "4  068aba587a4950175d04c680d38943fd488d6a9d      0\n",
      "label\n",
      "0    130908\n",
      "1     89117\n",
      "Name: count, dtype: int64\n"
     ]
    }
   ],
   "source": [
    "trainLabelsPath = '/kaggle/input/histopathologic-cancer-detection/train_labels.csv'\n",
    "\n",
    "train_labels_df = pd.read_csv('/kaggle/input/histopathologic-cancer-detection/train_labels.csv')\n",
    "\n",
    "print(train_labels_df.head())\n",
    "\n",
    "value_counts = train_labels_df['label'].value_counts()\n",
    "\n",
    "print(value_counts)"
   ]
  },
  {
   "cell_type": "markdown",
   "id": "0d4b9fc4",
   "metadata": {
    "papermill": {
     "duration": 0.006735,
     "end_time": "2024-11-04T18:38:57.481290",
     "exception": false,
     "start_time": "2024-11-04T18:38:57.474555",
     "status": "completed"
    },
    "tags": []
   },
   "source": [
    "Our data is not perfectly balanced - 131K 0's and 90K 1's. This is a pretty significant skew towards negative examples. We are going to undersample the negative examples, so we have 90K of each. This was done in a separate file and imported into this notebook as a new dataset for speed, but for educational purposes the code used to do it is below, commented out:"
   ]
  },
  {
   "cell_type": "code",
   "execution_count": 3,
   "id": "cabf1554",
   "metadata": {
    "execution": {
     "iopub.execute_input": "2024-11-04T18:38:57.495865Z",
     "iopub.status.busy": "2024-11-04T18:38:57.494835Z",
     "iopub.status.idle": "2024-11-04T18:38:57.500720Z",
     "shell.execute_reply": "2024-11-04T18:38:57.499619Z"
    },
    "papermill": {
     "duration": 0.015601,
     "end_time": "2024-11-04T18:38:57.503082",
     "exception": false,
     "start_time": "2024-11-04T18:38:57.487481",
     "status": "completed"
    },
    "tags": []
   },
   "outputs": [],
   "source": [
    "# trainLabelsPath = '/kaggle/input/histopathologic-cancer-detection/train_labels.csv'\n",
    "# train_labels_df = pd.read_csv(trainLabelsPath)\n",
    "# source_dir = '/kaggle/input/histopathologic-cancer-detection/train'\n",
    "# dest_dir_0 = '/kaggle/working/0'\n",
    "# dest_dir_1 = '/kaggle/working/1'\n",
    "\n",
    "# os.makedirs(dest_dir_0, exist_ok=True)\n",
    "# os.makedirs(dest_dir_1, exist_ok=True)\n",
    "\n",
    "# class_0_df = train_labels_df[train_labels_df['label'] == 0]\n",
    "# class_1_df = train_labels_df[train_labels_df['label'] == 1]\n",
    "\n",
    "\n",
    "# sampled_class_0_df = class_0_df.sample(n=len(class_1_df), random_state=42)\n",
    "# balanced_df = pd.concat([sampled_class_0_df, class_1_df])\n",
    "\n",
    "\n",
    "# for i, row in balanced_df.iterrows():\n",
    "#     file_name = row['id'] + '.tif'  \n",
    "#     label = row['label']\n",
    "    \n",
    "    \n",
    "#     source_file = os.path.join(source_dir, file_name)\n",
    "#     source_img = Image.open(source_file)\n",
    "#     W, H = source_img.size\n",
    "#     centerX, centerY = W / 2, H / 2\n",
    "#     box = (centerX - 16, centerY - 16, centerX + 16, centerY + 16)\n",
    "#     cropped_img = source_img.crop(box)\n",
    "#     cleanedImage = cropped_img.resize((64, 64), Image.NEAREST)\n",
    "    \n",
    "#     dest_dir = dest_dir_0 if label == 0 else dest_dir_1\n",
    "#     cleanedImage.save(f\"{dest_dir}/{file_name}\")"
   ]
  },
  {
   "cell_type": "markdown",
   "id": "7e996ea3",
   "metadata": {
    "papermill": {
     "duration": 0.005616,
     "end_time": "2024-11-04T18:38:57.514862",
     "exception": false,
     "start_time": "2024-11-04T18:38:57.509246",
     "status": "completed"
    },
    "tags": []
   },
   "source": [
    "Our task is to use the center 32x32 window of our 96x96 images, to predict the presence of cancer. We can perform some simple pre-processing to improve the input data for our model. \n",
    "\n",
    "Since we are only going to examine the center 32x32 pixels, we can crop the rest of the image out entirely.\n",
    "\n",
    "Once we have this cropped image, we can upscale it, to give a bigger and more detailed image to our model. This is a common technique in computer vison. Since we are working with limited resources, we will try upscaling to 64x64, using a nearest-neighbor algorithm. The code to accomplish this is in the cell below. It has been commented out, and its output has been saved as a separate dataset (preprocessed-data)."
   ]
  },
  {
   "cell_type": "code",
   "execution_count": 4,
   "id": "859cdc1b",
   "metadata": {
    "execution": {
     "iopub.execute_input": "2024-11-04T18:38:57.528625Z",
     "iopub.status.busy": "2024-11-04T18:38:57.528183Z",
     "iopub.status.idle": "2024-11-04T18:38:57.534388Z",
     "shell.execute_reply": "2024-11-04T18:38:57.532939Z"
    },
    "papermill": {
     "duration": 0.015892,
     "end_time": "2024-11-04T18:38:57.536703",
     "exception": false,
     "start_time": "2024-11-04T18:38:57.520811",
     "status": "completed"
    },
    "tags": []
   },
   "outputs": [],
   "source": [
    "#Preprocessing training data\n",
    "##This code will crop the center window of each image, upscale it to double its original size, and \n",
    "##then save it to either directory 0 or 1 depending on its label. Output was saved to the preproccessed-data dataset.\n",
    "#An equivalent script was run to produce the preprocessed-data-alex file\n",
    "\n",
    "# import os\n",
    "# import shutil\n",
    "\n",
    "# dest_dir_0 = '/kaggle/working/0'\n",
    "# dest_dir_1 = '/kaggle/working/1'\n",
    "\n",
    "# os.makedirs(dest_dir_0, exist_ok=True)\n",
    "# os.makedirs(dest_dir_1, exist_ok=True)\n",
    "\n",
    "# source_dir = '/kaggle/input/histopathologic-cancer-detection/train'\n",
    "# for i, row in train_labels_df.iterrows():\n",
    "#     file_name = row['id'] + '.tif'  \n",
    "#     label = row['label']            \n",
    "\n",
    "   \n",
    "#     source_file = os.path.join(source_dir, file_name)\n",
    "    \n",
    "#     source_img = Image.open(source_file)\n",
    "#     W, H = source_img.size\n",
    "#     centerX = W/2\n",
    "#     centerY = H/2\n",
    "    \n",
    "#     box = (centerX-16, centerY-16, centerX+16, centerY+16)\n",
    "#     cropped_img = source_img.crop(box)\n",
    "    \n",
    "#     cleanedImage = cropped_img.resize((64,64), Image.NEAREST)\n",
    "    \n",
    "#     cleanedFile = None\n",
    "    \n",
    "#     if label == 0:\n",
    "#         cleanedImage.save(f\"{dest_dir_0}/{file_name}\")\n",
    "\n",
    "#     else:\n",
    "#         cleanedImage.save(f\"{dest_dir_1}/{file_name}\")\n",
    "\n",
    "    "
   ]
  },
  {
   "cell_type": "markdown",
   "id": "19d49085",
   "metadata": {
    "papermill": {
     "duration": 0.005588,
     "end_time": "2024-11-04T18:38:57.548317",
     "exception": false,
     "start_time": "2024-11-04T18:38:57.542729",
     "status": "completed"
    },
    "tags": []
   },
   "source": [
    "We'll apply the same preprocessing to our test data below."
   ]
  },
  {
   "cell_type": "code",
   "execution_count": 5,
   "id": "8d3e8ff7",
   "metadata": {
    "execution": {
     "iopub.execute_input": "2024-11-04T18:38:57.562412Z",
     "iopub.status.busy": "2024-11-04T18:38:57.561507Z",
     "iopub.status.idle": "2024-11-04T18:47:27.192576Z",
     "shell.execute_reply": "2024-11-04T18:47:27.191154Z"
    },
    "papermill": {
     "duration": 509.649233,
     "end_time": "2024-11-04T18:47:27.203530",
     "exception": false,
     "start_time": "2024-11-04T18:38:57.554297",
     "status": "completed"
    },
    "tags": []
   },
   "outputs": [
    {
     "name": "stdout",
     "output_type": "stream",
     "text": [
      "Processing complete.\n"
     ]
    }
   ],
   "source": [
    "#Preprocessing test data\n",
    "\n",
    "import os\n",
    "from PIL import Image\n",
    "\n",
    "# Directories\n",
    "\n",
    "\n",
    "source_dir = '/kaggle/input/histopathologic-cancer-detection/test'\n",
    "dest_dir = '/kaggle/working/test/all'  \n",
    "\n",
    "os.makedirs(dest_dir, exist_ok=True)\n",
    "\n",
    "\n",
    "for file_name in os.listdir(source_dir):\n",
    "    if file_name.endswith('.tif'):  \n",
    "        source_file = os.path.join(source_dir, file_name)\n",
    "        \n",
    "        source_img = Image.open(source_file)\n",
    "        \n",
    "        W, H = source_img.size\n",
    "        centerX = W / 2\n",
    "        centerY = H / 2\n",
    "        box = (centerX - 16, centerY - 16, centerX + 16, centerY + 16)  # 32x32 crop\n",
    "        \n",
    "        cropped_img = source_img.crop(box)\n",
    "        \n",
    "        cleaned_img = cropped_img.resize((64, 64), Image.NEAREST)\n",
    "        cleaned_img.save(os.path.join(dest_dir, file_name))\n",
    "\n",
    "print(\"Processing complete.\")\n"
   ]
  },
  {
   "cell_type": "markdown",
   "id": "f1029ba7",
   "metadata": {
    "papermill": {
     "duration": 0.005975,
     "end_time": "2024-11-04T18:47:27.216124",
     "exception": false,
     "start_time": "2024-11-04T18:47:27.210149",
     "status": "completed"
    },
    "tags": []
   },
   "source": [
    "With Keras, we create data generators, which feed images into our models in batches. With the large file sizes and computation costs, these are essential. I set up separate data generators for the train and test sets, using a batch size of 16. Initially, I used a batch size of 32, and this would cause my Kaggle notebook to freeze during training."
   ]
  },
  {
   "cell_type": "code",
   "execution_count": 6,
   "id": "23d53cca",
   "metadata": {
    "execution": {
     "iopub.execute_input": "2024-11-04T18:47:27.230189Z",
     "iopub.status.busy": "2024-11-04T18:47:27.229737Z",
     "iopub.status.idle": "2024-11-04T18:49:17.813355Z",
     "shell.execute_reply": "2024-11-04T18:49:17.812069Z"
    },
    "papermill": {
     "duration": 110.593944,
     "end_time": "2024-11-04T18:49:17.816308",
     "exception": false,
     "start_time": "2024-11-04T18:47:27.222364",
     "status": "completed"
    },
    "tags": []
   },
   "outputs": [
    {
     "name": "stdout",
     "output_type": "stream",
     "text": [
      "Found 178234 images belonging to 2 classes.\n",
      "Found 57458 images belonging to 1 classes.\n"
     ]
    }
   ],
   "source": [
    "#Creating data generators for training and test\n",
    "\n",
    "datagen = ImageDataGenerator(\n",
    ")\n",
    "\n",
    "train_generator = datagen.flow_from_directory(\n",
    "    '/kaggle/input/preprocessed-data-equal',\n",
    "    target_size=(64,64),\n",
    "    batch_size=16,         \n",
    "    class_mode='binary'     \n",
    ")\n",
    "\n",
    "#Data generator for test\n",
    "\n",
    "test_datagen = ImageDataGenerator()\n",
    "\n",
    "test_generator = test_datagen.flow_from_directory(\n",
    "    directory='/kaggle/working/test',  \n",
    "    target_size=(64,64),  \n",
    "    batch_size=16,  \n",
    "    class_mode=None, \n",
    "    shuffle=False,  \n",
    "    color_mode='rgb' \n",
    ")\n",
    "\n"
   ]
  },
  {
   "cell_type": "markdown",
   "id": "d4cdca87",
   "metadata": {
    "papermill": {
     "duration": 0.005829,
     "end_time": "2024-11-04T18:49:17.828337",
     "exception": false,
     "start_time": "2024-11-04T18:49:17.822508",
     "status": "completed"
    },
    "tags": []
   },
   "source": [
    "Let's build some visualizations of the distribution of pixel intensity of red, blue and green values across the training dataset."
   ]
  },
  {
   "cell_type": "code",
   "execution_count": 7,
   "id": "59f399b7",
   "metadata": {
    "execution": {
     "iopub.execute_input": "2024-11-04T18:49:17.842528Z",
     "iopub.status.busy": "2024-11-04T18:49:17.842107Z",
     "iopub.status.idle": "2024-11-04T18:49:29.237331Z",
     "shell.execute_reply": "2024-11-04T18:49:29.235926Z"
    },
    "papermill": {
     "duration": 11.407003,
     "end_time": "2024-11-04T18:49:29.241499",
     "exception": false,
     "start_time": "2024-11-04T18:49:17.834496",
     "status": "completed"
    },
    "tags": []
   },
   "outputs": [
    {
     "data": {
      "image/png": "[encoded data removed]",
      "text/plain": [
       "<Figure size 1200x400 with 3 Axes>"
      ]
     },
     "metadata": {},
     "output_type": "display_data"
    }
   ],
   "source": [
    "##histogram\n",
    "all_red_channel = []\n",
    "all_green_channel = []\n",
    "all_blue_channel = []\n",
    "\n",
    "num_batches_to_sample = 100\n",
    "batches_processed = 0\n",
    "\n",
    "for images, labels in train_generator:\n",
    "    all_red_channel.extend(images[:, :, :, 0].ravel())\n",
    "    all_green_channel.extend(images[:, :, :, 1].ravel())\n",
    "    all_blue_channel.extend(images[:, :, :, 2].ravel())\n",
    "    \n",
    "    batches_processed += 1\n",
    "    \n",
    "    if batches_processed >= num_batches_to_sample:\n",
    "        break\n",
    "\n",
    "all_red_channel = np.array(all_red_channel)\n",
    "all_green_channel = np.array(all_green_channel)\n",
    "all_blue_channel = np.array(all_blue_channel)\n",
    "\n",
    "plt.figure(figsize=(12, 4))\n",
    "\n",
    "plt.subplot(1, 3, 1)\n",
    "plt.hist(all_red_channel, bins=256, color='red', alpha=0.7)\n",
    "plt.title('Red Channel Histogram')\n",
    "plt.xlabel('Pixel Intensity')\n",
    "plt.ylabel('Frequency')\n",
    "\n",
    "plt.subplot(1, 3, 2)\n",
    "plt.hist(all_green_channel, bins=256, color='green', alpha=0.7)\n",
    "plt.title('Green Channel Histogram')\n",
    "plt.xlabel('Pixel Intensity')\n",
    "plt.ylabel('Frequency')\n",
    "\n",
    "plt.subplot(1, 3, 3)\n",
    "plt.hist(all_blue_channel, bins=256, color='blue', alpha=0.7)\n",
    "plt.title('Blue Channel Histogram')\n",
    "plt.xlabel('Pixel Intensity')\n",
    "plt.ylabel('Frequency')\n",
    "\n",
    "plt.tight_layout()\n",
    "plt.show()"
   ]
  },
  {
   "cell_type": "markdown",
   "id": "657e7555",
   "metadata": {
    "papermill": {
     "duration": 0.007595,
     "end_time": "2024-11-04T18:49:29.259107",
     "exception": false,
     "start_time": "2024-11-04T18:49:29.251512",
     "status": "completed"
    },
    "tags": []
   },
   "source": [
    "# Step 3 Model Architecture\n",
    "\n",
    "Given our relatively small image size, we will use a CNN with 3 convolution layers, two pooling layers, and a single-neuron sigmoid activation layer. Below we have a function that will build this base model, and has parameters for different optimizers, number of epochs, and learning rate."
   ]
  },
  {
   "cell_type": "code",
   "execution_count": 8,
   "id": "4c1c6d02",
   "metadata": {
    "execution": {
     "iopub.execute_input": "2024-11-04T18:49:29.278269Z",
     "iopub.status.busy": "2024-11-04T18:49:29.276871Z",
     "iopub.status.idle": "2024-11-04T18:49:29.296526Z",
     "shell.execute_reply": "2024-11-04T18:49:29.295098Z"
    },
    "papermill": {
     "duration": 0.032105,
     "end_time": "2024-11-04T18:49:29.299333",
     "exception": false,
     "start_time": "2024-11-04T18:49:29.267228",
     "status": "completed"
    },
    "tags": []
   },
   "outputs": [],
   "source": [
    "from tensorflow.keras.metrics import AUC, Precision, Recall\n",
    "from tensorflow.keras.optimizers import SGD,Adam\n",
    "\n",
    "def build_model_and_predict(opt,epochs, learning_rate, train_generator, test_generator):\n",
    "\n",
    "    \n",
    "    model = models.Sequential()\n",
    "    model.add(Input(shape=(64, 64, 3))) \n",
    "    model.add(layers.Conv2D(32, (3, 3), activation='relu')) \n",
    "    model.add(layers.MaxPooling2D((2, 2))) \n",
    "    model.add(layers.Conv2D(64, (3, 3), activation='relu'))  \n",
    "    model.add(layers.MaxPooling2D((2, 2)))  \n",
    "    model.add(layers.Conv2D(64, (3, 3), activation='relu'))  \n",
    "    \n",
    "    model.add(layers.Conv2D(128, (3, 3), activation='relu'))\n",
    "    model.add(layers.MaxPooling2D((2, 2)))\n",
    "\n",
    " \n",
    "    model.add(layers.Flatten())  \n",
    "    model.add(layers.Dense(128, activation='relu')) \n",
    "    model.add(layers.Dropout(0.5)) \n",
    "\n",
    "    model.add(layers.Dense(1, activation='sigmoid'))\n",
    "    model.summary()\n",
    "    \n",
    "    \n",
    "    \n",
    "    if opt == 'sgd':\n",
    "        \n",
    "        model.compile(\n",
    "        optimizer=SGD(learning_rate=learning_rate, momentum=0.9, clipnorm=1.0),\n",
    "        loss='binary_crossentropy',\n",
    "        metrics=['accuracy', AUC(name='auc'), Recall(name='recall'), Precision(name='precision')])\n",
    "    else:\n",
    "        model.compile(\n",
    "        optimizer=Adam(learning_rate=learning_rate),\n",
    "        loss='binary_crossentropy',\n",
    "        metrics=['accuracy', AUC(name='auc'), Recall(name='recall'), Precision(name='precision')])\n",
    "        \n",
    "\n",
    "    history = model.fit(train_generator, epochs = epochs)\n",
    "    train_accuracy = history.history['accuracy']  \n",
    "    print(train_accuracy)\n",
    "    \n",
    "    predictions = model.predict(test_generator)\n",
    "    print(predictions)\n",
    "   \n",
    "    predicted_classes = (predictions > 0.5).astype(int)\n",
    "   \n",
    "    filenames = test_generator.filenames\n",
    "    filenames = [name.split('/')[-1].split('.')[0] for name in filenames]  \n",
    "   \n",
    "    results_df = pd.DataFrame({\n",
    "        'id': filenames,\n",
    "        'label': predicted_classes.flatten()\n",
    "    })\n",
    "  \n",
    "    z = 'a' if learning_rate == 0.001 else 'b'\n",
    "    \n",
    "    results_df.to_csv(f\"simple_model_{opt}_{epochs}_epochs_{z}pointzerozerotwo_10_7.csv\", index=False)\n",
    "    \n",
    "    \n",
    "    "
   ]
  },
  {
   "cell_type": "markdown",
   "id": "99c3c640",
   "metadata": {
    "papermill": {
     "duration": 0.006767,
     "end_time": "2024-11-04T18:49:29.313362",
     "exception": false,
     "start_time": "2024-11-04T18:49:29.306595",
     "status": "completed"
    },
    "tags": []
   },
   "source": [
    "The code below will iterate through different rates, optimizers, and epochs, building the model, training it, making predictions, and saving those predictions to a csv file suitable for uploading to Kaggle."
   ]
  },
  {
   "cell_type": "code",
   "execution_count": 9,
   "id": "aedf0179",
   "metadata": {
    "execution": {
     "iopub.execute_input": "2024-11-04T18:49:29.331068Z",
     "iopub.status.busy": "2024-11-04T18:49:29.329753Z",
     "iopub.status.idle": "2024-11-04T18:49:29.335769Z",
     "shell.execute_reply": "2024-11-04T18:49:29.334522Z"
    },
    "papermill": {
     "duration": 0.018027,
     "end_time": "2024-11-04T18:49:29.338548",
     "exception": false,
     "start_time": "2024-11-04T18:49:29.320521",
     "status": "completed"
    },
    "tags": []
   },
   "outputs": [],
   "source": [
    "# rates = [0.001, 0.0002]\n",
    "# opts = ['adam','sgd']\n",
    "# epochs = [15, 50, 75]\n",
    "\n",
    "\n",
    "# for e in epochs:\n",
    "    \n",
    "#     for r in rates:\n",
    "        \n",
    "#         for o in opts:\n",
    "#             build_model_and_predict(o,e,r, train_generator, test_generator)\n"
   ]
  },
  {
   "cell_type": "markdown",
   "id": "0aedfdce",
   "metadata": {
    "papermill": {
     "duration": 0.007603,
     "end_time": "2024-11-04T18:49:29.354260",
     "exception": false,
     "start_time": "2024-11-04T18:49:29.346657",
     "status": "completed"
    },
    "tags": []
   },
   "source": [
    "If you've completed this competition, you've likely noticed that Kaggle notebooks can only run for a maximum of 12 hours, even in \"background\" mode. So while the code above is useful, it's more of a theoretical implementation - to actually complete a run in less than 12 hours, at least for 100 epochs, I needed to manually run a single combination at a time.\n",
    "\n",
    "For the sake of thoroughness, we'll examine a more complex CNN - the AlexNet architecture. It involves 5 convolution layers, with 128-256 filters, with pooling layers, normalization, and dropouts.\n",
    "\n",
    "AlexNet is optimized for 227x227 images. To properly upscale our training data is just too resource-intensive, so we will show the algorithm, but AlexNet will not be part of our final results.\n",
    "\n",
    "Below we will implement the AlexNet neural network (Kolla, 2020)."
   ]
  },
  {
   "cell_type": "code",
   "execution_count": 10,
   "id": "aa72cabd",
   "metadata": {
    "execution": {
     "iopub.execute_input": "2024-11-04T18:49:29.372535Z",
     "iopub.status.busy": "2024-11-04T18:49:29.371641Z",
     "iopub.status.idle": "2024-11-04T18:49:29.378591Z",
     "shell.execute_reply": "2024-11-04T18:49:29.377222Z"
    },
    "papermill": {
     "duration": 0.018747,
     "end_time": "2024-11-04T18:49:29.380943",
     "exception": false,
     "start_time": "2024-11-04T18:49:29.362196",
     "status": "completed"
    },
    "tags": []
   },
   "outputs": [],
   "source": [
    "# def build_alex_model_and_predict(epochs, train_generator, test_generator):\n",
    "\n",
    "    \n",
    "#     model=keras.models.Sequential([\n",
    "#     model.add(Input(shape=(64, 64, 3))),\n",
    "#     keras.layers.Conv2D(filters=128, kernel_size=(11,11), strides=(4,4), activation='relu'),\n",
    "#     keras.layers.BatchNormalization(),\n",
    "#     keras.layers.MaxPool2D(pool_size=(2,2)),\n",
    "#     keras.layers.Conv2D(filters=256, kernel_size=(5,5), strides=(1,1), activation='relu', padding=\"same\"),\n",
    "#     keras.layers.BatchNormalization(),\n",
    "#     keras.layers.MaxPool2D(pool_size=(3,3)),\n",
    "#     keras.layers.Conv2D(filters=256, kernel_size=(3,3), strides=(1,1), activation='relu', padding=\"same\"),\n",
    "#     keras.layers.BatchNormalization(),\n",
    "#     keras.layers.Conv2D(filters=256, kernel_size=(1,1), strides=(1,1), activation='relu', padding=\"same\"),\n",
    "#     keras.layers.BatchNormalization(),\n",
    "#     keras.layers.Conv2D(filters=256, kernel_size=(1,1), strides=(1,1), activation='relu', padding=\"same\"),\n",
    "#     keras.layers.BatchNormalization(),\n",
    "#     keras.layers.MaxPool2D(pool_size=(2,2)),\n",
    "#     keras.layers.Flatten(),\n",
    "#     keras.layers.Dense(1024,activation='relu'),\n",
    "#     keras.layers.Dropout(0.5),\n",
    "#     keras.layers.Dense(1024,activation='relu'),\n",
    "#     keras.layers.Dropout(0.5),\n",
    "#     keras.layers.Dense(1,activation='sigmoid')  \n",
    "    \n",
    "    \n",
    "# ])\n",
    "\n",
    "#     model.compile(\n",
    "#     loss='binary_crossentropy',\n",
    "#     optimizer='adam',\n",
    "#     metrics=['accuracy', AUC(name='auc'), Recall(name='recall'), Precision(name='precision')]  \n",
    "#     )\n",
    "\n",
    "#     model.fit(train_generator, epochs = epochs)\n",
    "    \n",
    "#     predictions = model.predict(test_generator)\n",
    "#     # Convert probabilities to binary labels (0 or 1)\n",
    "#     predicted_classes = (predictions > 0.5).astype(int)\n",
    "#     # Get filenames from the generator\n",
    "#     filenames = test_generator.filenames\n",
    "#     filenames = [name.split('/')[-1].split('.')[0] for name in filenames]  # Extract just the filename\n",
    "#     # Create a DataFrame with the image IDs and their corresponding predictions\n",
    "#     results_df = pd.DataFrame({\n",
    "#         'id': filenames,\n",
    "#         'label': predicted_classes.flatten()\n",
    "#     })\n",
    "#     # Save the predictions to a CSV file\n",
    "#     z = 'a' if learning_rate == 0.001 else 'b'\n",
    "    \n",
    "#     results_df.to_csv(f\"alex_model_{epochs}_epochs_{z}.csv\", index=False)\n",
    "#     return model.evaluate(test_generator)"
   ]
  },
  {
   "cell_type": "code",
   "execution_count": 11,
   "id": "1de2f925",
   "metadata": {
    "execution": {
     "iopub.execute_input": "2024-11-04T18:49:29.397366Z",
     "iopub.status.busy": "2024-11-04T18:49:29.396912Z",
     "iopub.status.idle": "2024-11-04T18:49:29.402487Z",
     "shell.execute_reply": "2024-11-04T18:49:29.401221Z"
    },
    "papermill": {
     "duration": 0.01693,
     "end_time": "2024-11-04T18:49:29.405220",
     "exception": false,
     "start_time": "2024-11-04T18:49:29.388290",
     "status": "completed"
    },
    "tags": []
   },
   "outputs": [],
   "source": [
    "\n",
    "# epochs = [20, 50, 100]\n",
    "\n",
    "# for e in epochs:\n",
    "#     results = build_alex_model_and_predict(e, alex_train_generator, alex_test_generator)\n",
    "#     loss, accuracy, auc, recall, precision = results\n",
    "#     print(f\"Results with {r} learning rate, {o} optimizer, {e} epochs:\")\n",
    "#     print(f\"Test Loss: {loss}\")\n",
    "#     print(f\"Test Accuracy: {accuracy}\")\n",
    "#     print(f\"Test AUC: {auc}\")\n",
    "#     print(f\"Test Recall: {recall}\")\n",
    "#     print(f\"Test Precision: {precision}\")"
   ]
  },
  {
   "cell_type": "markdown",
   "id": "fbc068f5",
   "metadata": {
    "papermill": {
     "duration": 0.006726,
     "end_time": "2024-11-04T18:49:29.419209",
     "exception": false,
     "start_time": "2024-11-04T18:49:29.412483",
     "status": "completed"
    },
    "tags": []
   },
   "source": [
    "# Step 4 Results and Analysis\n",
    "\n",
    "Much of step 4's criteria was covered above - we tuned multiple hyperparameters iteratively. Below is a table summarizing the performance of the model architectures and hyperparameters:"
   ]
  },
  {
   "cell_type": "markdown",
   "id": "efc4d92a",
   "metadata": {
    "papermill": {
     "duration": 0.006963,
     "end_time": "2024-11-04T18:49:29.433661",
     "exception": false,
     "start_time": "2024-11-04T18:49:29.426698",
     "status": "completed"
    },
    "tags": []
   },
   "source": [
    "| Optimizer | Epochs | Learning Rate | Score |\n",
    "|-----------|--------|---------------|-------|\n",
    "|     Adam      |    15    |        0.0001       |  .7677     |\n",
    "|     Adam      |    50    |        0.0001       |   .7562    |\n",
    "|     Adam      |    75    |        0.0001       |   .7740    |\n",
    "|     SGD      |     50   |         0.0002      |   .8078    |\n",
    "|           |        |               |       |\n"
   ]
  },
  {
   "cell_type": "markdown",
   "id": "0e5881d0",
   "metadata": {
    "papermill": {
     "duration": 0.006976,
     "end_time": "2024-11-04T18:49:29.448453",
     "exception": false,
     "start_time": "2024-11-04T18:49:29.441477",
     "status": "completed"
    },
    "tags": []
   },
   "source": [
    "# Conclusion\n",
    "\n",
    "This was the first project in the Machine Learning specialization with intensive image data. Adjusting to the computation time and dataset size was a significant challenge. \n",
    "\n",
    "Undersampling the training data would be one way to try out different architectures and hyperparameters more easily.\n",
    "\n",
    "Upgrading to paid resources would make it much easier to try more ambitious architectures and preprocessing techniques, to improve our Kaggle score. The Alex model would certainly perform much better. In our training, even when using GPU accelerators, the maximum epochs our model achieved was around 75 epochs - more epochs could have improved our result, but for the scope of this project, we achieved a solid result. In our findings, the SGD optimizer was slightly more effective than the Adam optimizer."
   ]
  }
 ],
 "metadata": {
  "kaggle": {
   "accelerator": "none",
   "dataSources": [
    {
     "databundleVersionId": 862157,
     "sourceId": 11848,
     "sourceType": "competition"
    },
    {
     "datasetId": 5565602,
     "sourceId": 9204976,
     "sourceType": "datasetVersion"
    },
    {
     "datasetId": 5975891,
     "sourceId": 9759109,
     "sourceType": "datasetVersion"
    },
    {
     "datasetId": 5999310,
     "sourceId": 9790679,
     "sourceType": "datasetVersion"
    }
   ],
   "dockerImageVersionId": 30786,
   "isGpuEnabled": false,
   "isInternetEnabled": true,
   "language": "python",
   "sourceType": "notebook"
  },
  "kernelspec": {
   "display_name": "Python 3",
   "language": "python",
   "name": "python3"
  },
  "language_info": {
   "codemirror_mode": {
    "name": "ipython",
    "version": 3
   },
   "file_extension": ".py",
   "mimetype": "text/x-python",
   "name": "python",
   "nbconvert_exporter": "python",
   "pygments_lexer": "ipython3",
   "version": "3.10.14"
  },
  "papermill": {
   "default_parameters": {},
   "duration": 653.190361,
   "end_time": "2024-11-04T18:49:31.094420",
   "environment_variables": {},
   "exception": null,
   "input_path": "__notebook__.ipynb",
   "output_path": "__notebook__.ipynb",
   "parameters": {},
   "start_time": "2024-11-04T18:38:37.904059",
   "version": "2.5.0"
  }
 },
 "nbformat": 4,
 "nbformat_minor": 5
}
